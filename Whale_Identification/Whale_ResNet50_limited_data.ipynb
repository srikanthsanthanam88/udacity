{
 "cells": [
  {
   "cell_type": "code",
   "execution_count": 1,
   "metadata": {},
   "outputs": [],
   "source": [
    "import pandas as pd\n",
    "import matplotlib.pyplot as plt\n",
    "import numpy as np\n",
    "import PIL\n",
    "import cv2\n",
    "import os\n",
    "import os.path\n",
    "import time\n",
    "import skimage, skimage.io\n",
    "import time\n",
    "import copy"
   ]
  },
  {
   "cell_type": "code",
   "execution_count": 2,
   "metadata": {},
   "outputs": [],
   "source": [
    "df = pd.read_csv('train.csv')"
   ]
  },
  {
   "cell_type": "markdown",
   "metadata": {},
   "source": [
    "#### Convert Images to Grayscale and Resize "
   ]
  },
  {
   "cell_type": "code",
   "execution_count": 3,
   "metadata": {},
   "outputs": [
    {
     "data": {
      "image/png": "[encoded data removed]",
      "text/plain": [
       "<matplotlib.figure.Figure at 0x7f2c1874d240>"
      ]
     },
     "metadata": {},
     "output_type": "display_data"
    }
   ],
   "source": [
    "unique = pd.value_counts(df.Id)\n",
    "num_classes_full = unique.values.shape[0]\n",
    "\n",
    "plt.figure()\n",
    "plt.plot(range(1,num_classes_full),unique.values[1:],'-k')\n",
    "plt.xlabel('Index of labels')\n",
    "plt.ylabel('Occurences')\n",
    "plt.show()"
   ]
  },
  {
   "cell_type": "code",
   "execution_count": 4,
   "metadata": {},
   "outputs": [
    {
     "name": "stdout",
     "output_type": "stream",
     "text": [
      "Classes: 4251\n",
      "Images: 9850\n"
     ]
    }
   ],
   "source": [
    "print (\"Classes:\", num_classes_full)\n",
    "print (\"Images:\",df.shape[0])"
   ]
  },
  {
   "cell_type": "code",
   "execution_count": 5,
   "metadata": {},
   "outputs": [
    {
     "data": {
      "text/html": [
       "<div>\n",
       "<style scoped>\n",
       "    .dataframe tbody tr th:only-of-type {\n",
       "        vertical-align: middle;\n",
       "    }\n",
       "\n",
       "    .dataframe tbody tr th {\n",
       "        vertical-align: top;\n",
       "    }\n",
       "\n",
       "    .dataframe thead th {\n",
       "        text-align: right;\n",
       "    }\n",
       "</style>\n",
       "<table border=\"1\" class=\"dataframe\">\n",
       "  <thead>\n",
       "    <tr style=\"text-align: right;\">\n",
       "      <th></th>\n",
       "      <th>Image</th>\n",
       "      <th>Id</th>\n",
       "      <th>occurrences</th>\n",
       "    </tr>\n",
       "  </thead>\n",
       "  <tbody>\n",
       "    <tr>\n",
       "      <th>1172</th>\n",
       "      <td>1e484732.jpg</td>\n",
       "      <td>new_whale</td>\n",
       "      <td>810</td>\n",
       "    </tr>\n",
       "    <tr>\n",
       "      <th>1230</th>\n",
       "      <td>200b53a2.jpg</td>\n",
       "      <td>new_whale</td>\n",
       "      <td>810</td>\n",
       "    </tr>\n",
       "    <tr>\n",
       "      <th>8688</th>\n",
       "      <td>e1eba938.jpg</td>\n",
       "      <td>new_whale</td>\n",
       "      <td>810</td>\n",
       "    </tr>\n",
       "    <tr>\n",
       "      <th>5080</th>\n",
       "      <td>842686a1.jpg</td>\n",
       "      <td>new_whale</td>\n",
       "      <td>810</td>\n",
       "    </tr>\n",
       "    <tr>\n",
       "      <th>5086</th>\n",
       "      <td>8441a59e.jpg</td>\n",
       "      <td>new_whale</td>\n",
       "      <td>810</td>\n",
       "    </tr>\n",
       "    <tr>\n",
       "      <th>5089</th>\n",
       "      <td>847238a3.jpg</td>\n",
       "      <td>new_whale</td>\n",
       "      <td>810</td>\n",
       "    </tr>\n",
       "    <tr>\n",
       "      <th>5105</th>\n",
       "      <td>84df4d6d.jpg</td>\n",
       "      <td>new_whale</td>\n",
       "      <td>810</td>\n",
       "    </tr>\n",
       "    <tr>\n",
       "      <th>5112</th>\n",
       "      <td>84eec364.jpg</td>\n",
       "      <td>new_whale</td>\n",
       "      <td>810</td>\n",
       "    </tr>\n",
       "    <tr>\n",
       "      <th>5119</th>\n",
       "      <td>8504db72.jpg</td>\n",
       "      <td>new_whale</td>\n",
       "      <td>810</td>\n",
       "    </tr>\n",
       "    <tr>\n",
       "      <th>5123</th>\n",
       "      <td>851a3114.jpg</td>\n",
       "      <td>new_whale</td>\n",
       "      <td>810</td>\n",
       "    </tr>\n",
       "  </tbody>\n",
       "</table>\n",
       "</div>"
      ],
      "text/plain": [
       "             Image         Id  occurrences\n",
       "1172  1e484732.jpg  new_whale          810\n",
       "1230  200b53a2.jpg  new_whale          810\n",
       "8688  e1eba938.jpg  new_whale          810\n",
       "5080  842686a1.jpg  new_whale          810\n",
       "5086  8441a59e.jpg  new_whale          810\n",
       "5089  847238a3.jpg  new_whale          810\n",
       "5105  84df4d6d.jpg  new_whale          810\n",
       "5112  84eec364.jpg  new_whale          810\n",
       "5119  8504db72.jpg  new_whale          810\n",
       "5123  851a3114.jpg  new_whale          810"
      ]
     },
     "execution_count": 5,
     "metadata": {},
     "output_type": "execute_result"
    }
   ],
   "source": [
    "grouped = df.groupby('Id')\n",
    "df['occurrences'] =  grouped.Id.transform('count')\n",
    "df = df.sort_values('occurrences',ascending=False)\n",
    "df[:10]"
   ]
  },
  {
   "cell_type": "code",
   "execution_count": 6,
   "metadata": {},
   "outputs": [],
   "source": [
    "# find the most common aspect ratio\n",
    "H = []\n",
    "W = []\n",
    "count = 0\n",
    "folder = './data/train/'\n",
    "\n",
    "for fname in os.listdir(folder):\n",
    "    if fname[-3:] == 'jpg':\n",
    "        img = skimage.io.imread(folder+fname)\n",
    "        H.append(img.shape[0])\n",
    "        W.append(img.shape[1])\n",
    "        count += 1\n",
    "\n",
    "H = np.array(H,dtype='float')\n",
    "W = np.array(W,dtype='float')\n",
    "A = H/W\n",
    "unique, ret_counts = np.unique(A,return_counts=True)"
   ]
  },
  {
   "cell_type": "code",
   "execution_count": 7,
   "metadata": {},
   "outputs": [],
   "source": [
    "def resize_images(folder1, folder2):\n",
    "     #images = []\n",
    "    for filename in os.listdir(folder1):\n",
    "        img = cv2.imread(os.path.join(folder1,filename))\n",
    "        chan = img.shape[-1]\n",
    "        if chan==3:\n",
    "            g_img = cv2.cvtColor(img,cv2.COLOR_BGR2GRAY)\n",
    "            new_img = cv2.resize(g_img,(224,224),interpolation=cv2.INTER_AREA)\n",
    "        else:\n",
    "             new_img = cv2.resize(img,(224,224),interpolation=cv2.INTER_AREA)\n",
    "        if new_img is not None:\n",
    "            out_path = os.path.join(folder2,filename)\n",
    "            cv2.imwrite(out_path,new_img)\n"
   ]
  },
  {
   "cell_type": "code",
   "execution_count": 8,
   "metadata": {},
   "outputs": [
    {
     "data": {
      "text/plain": [
       "Text(0,0.5,'Occurrences')"
      ]
     },
     "execution_count": 8,
     "metadata": {},
     "output_type": "execute_result"
    },
    {
     "data": {
      "image/png": "[encoded data removed]",
      "text/plain": [
       "<matplotlib.figure.Figure at 0x7f2b89411eb8>"
      ]
     },
     "metadata": {},
     "output_type": "display_data"
    }
   ],
   "source": [
    "plt.figure()\n",
    "plt.plot(unique,ret_counts)\n",
    "plt.xlabel('Aspect ratio')\n",
    "plt.ylabel('Occurrences')"
   ]
  },
  {
   "cell_type": "markdown",
   "metadata": {},
   "source": [
    "The class 'new_whale' has the highest number of occurrences - 810. In summary, looking at the plots of the data distribution and aspect ratios we can now conclude that the data distribution is highly skewed and the images are of varying sizes. Many of the labels occur only once. This will make identifying the whales a challenging problem. Also, it would be a good idea to resize all the images to a uniform size"
   ]
  },
  {
   "cell_type": "code",
   "execution_count": 9,
   "metadata": {},
   "outputs": [],
   "source": [
    "if not os.path.exists('data_gray'):\n",
    "    os.mkdir('data_gray')\n",
    "resize_images('data/train/','data_gray/')"
   ]
  },
  {
   "cell_type": "markdown",
   "metadata": {},
   "source": [
    "#### Create a new data frame with selected data "
   ]
  },
  {
   "cell_type": "code",
   "execution_count": 45,
   "metadata": {},
   "outputs": [
    {
     "data": {
      "text/html": [
       "<div>\n",
       "<style scoped>\n",
       "    .dataframe tbody tr th:only-of-type {\n",
       "        vertical-align: middle;\n",
       "    }\n",
       "\n",
       "    .dataframe tbody tr th {\n",
       "        vertical-align: top;\n",
       "    }\n",
       "\n",
       "    .dataframe thead th {\n",
       "        text-align: right;\n",
       "    }\n",
       "</style>\n",
       "<table border=\"1\" class=\"dataframe\">\n",
       "  <thead>\n",
       "    <tr style=\"text-align: right;\">\n",
       "      <th></th>\n",
       "      <th>Image</th>\n",
       "      <th>Id</th>\n",
       "      <th>occurrences</th>\n",
       "    </tr>\n",
       "  </thead>\n",
       "  <tbody>\n",
       "    <tr>\n",
       "      <th>4175</th>\n",
       "      <td>6d82e3d0.jpg</td>\n",
       "      <td>w_1287fbc</td>\n",
       "      <td>34</td>\n",
       "    </tr>\n",
       "    <tr>\n",
       "      <th>1673</th>\n",
       "      <td>2c4813a1.jpg</td>\n",
       "      <td>w_1287fbc</td>\n",
       "      <td>34</td>\n",
       "    </tr>\n",
       "    <tr>\n",
       "      <th>5624</th>\n",
       "      <td>91b704dc.jpg</td>\n",
       "      <td>w_1287fbc</td>\n",
       "      <td>34</td>\n",
       "    </tr>\n",
       "    <tr>\n",
       "      <th>8424</th>\n",
       "      <td>db147df2.jpg</td>\n",
       "      <td>w_1287fbc</td>\n",
       "      <td>34</td>\n",
       "    </tr>\n",
       "    <tr>\n",
       "      <th>1670</th>\n",
       "      <td>2c3b34a3.jpg</td>\n",
       "      <td>w_1287fbc</td>\n",
       "      <td>34</td>\n",
       "    </tr>\n",
       "  </tbody>\n",
       "</table>\n",
       "</div>"
      ],
      "text/plain": [
       "             Image         Id  occurrences\n",
       "4175  6d82e3d0.jpg  w_1287fbc           34\n",
       "1673  2c4813a1.jpg  w_1287fbc           34\n",
       "5624  91b704dc.jpg  w_1287fbc           34\n",
       "8424  db147df2.jpg  w_1287fbc           34\n",
       "1670  2c3b34a3.jpg  w_1287fbc           34"
      ]
     },
     "execution_count": 45,
     "metadata": {},
     "output_type": "execute_result"
    }
   ],
   "source": [
    "# throw away all the labels which have fewer than 10 images associated with them and all the new whales\n",
    "my_df = df[(df.occurrences >= 10) & (df.Id != 'new_whale')]\n",
    "\n",
    "my_df.head()"
   ]
  },
  {
   "cell_type": "code",
   "execution_count": 12,
   "metadata": {},
   "outputs": [
    {
     "data": {
      "text/plain": [
       "Image          979\n",
       "Id              65\n",
       "occurrences     17\n",
       "dtype: int64"
      ]
     },
     "execution_count": 12,
     "metadata": {},
     "output_type": "execute_result"
    }
   ],
   "source": [
    "my_df.nunique()"
   ]
  },
  {
   "cell_type": "markdown",
   "metadata": {},
   "source": [
    "There are 65 whales with 10 occurences or more. The size of the output layer will hence be 65."
   ]
  },
  {
   "cell_type": "markdown",
   "metadata": {},
   "source": [
    "#### Split new data frame into training and validation data "
   ]
  },
  {
   "cell_type": "code",
   "execution_count": 13,
   "metadata": {},
   "outputs": [],
   "source": [
    "my_x = np.array(my_df['Image'])\n",
    "my_x= 'data_gray/' + my_x\n",
    "\n",
    "my_Y = np.array(my_df['Id'])"
   ]
  },
  {
   "cell_type": "code",
   "execution_count": 14,
   "metadata": {},
   "outputs": [],
   "source": [
    "my_msk = np.random.rand(len(my_x)) < 0.75\n",
    "my_x_train = my_x[my_msk]\n",
    "my_Y_train = my_Y[my_msk]\n",
    "\n",
    "my_x_val = my_x[~my_msk]\n",
    "my_Y_val = my_Y[~my_msk]"
   ]
  },
  {
   "cell_type": "code",
   "execution_count": 15,
   "metadata": {},
   "outputs": [
    {
     "name": "stdout",
     "output_type": "stream",
     "text": [
      "979 images have been split into 755 training images and 224 validation images\n"
     ]
    }
   ],
   "source": [
    "print(f'{my_df.shape[0]} images have been split into {len(my_x_train)} training images and {len(my_x_val)} validation images')"
   ]
  },
  {
   "cell_type": "markdown",
   "metadata": {},
   "source": [
    "#### Store training and validation into classwise folders "
   ]
  },
  {
   "cell_type": "code",
   "execution_count": 16,
   "metadata": {},
   "outputs": [],
   "source": [
    "import shutil\n",
    "\n",
    "subset_path = 'data_subset'\n",
    "subset_train_path = 'data_subset/train'\n",
    "subset_val_path = 'data_subset/val'\n",
    "\n",
    "if not os.path.exists(subset_path):\n",
    "    os.mkdir(subset_path)\n",
    "else:\n",
    "    shutil.rmtree(subset_train_path)\n",
    "    shutil.rmtree(subset_val_path)\n",
    "\n",
    "if not os.path.exists(subset_train_path):    \n",
    "    os.mkdir(subset_train_path)\n",
    "\n",
    "if not os.path.exists(subset_val_path):\n",
    "    os.mkdir(subset_val_path)"
   ]
  },
  {
   "cell_type": "code",
   "execution_count": 17,
   "metadata": {},
   "outputs": [],
   "source": [
    "for folder in my_Y:\n",
    "    path = subset_train_path + \"/\" + folder\n",
    "    if not os.path.exists(path):\n",
    "        os.mkdir(path)"
   ]
  },
  {
   "cell_type": "code",
   "execution_count": 18,
   "metadata": {},
   "outputs": [],
   "source": [
    "for folder in my_Y:\n",
    "    path = subset_val_path + \"/\" + folder\n",
    "    if not os.path.exists(path):\n",
    "        os.mkdir(path)"
   ]
  },
  {
   "cell_type": "code",
   "execution_count": 19,
   "metadata": {},
   "outputs": [],
   "source": [
    "cnt = 0\n",
    "gray_path = 'data_gray/'\n",
    "for file in my_x_train:\n",
    "    image = file.replace(gray_path,'')\n",
    "    new_path = subset_train_path + \"/\" + my_Y_train[cnt] + \"/\" + image\n",
    "    img = cv2.imread(file)\n",
    "    cv2.imwrite(new_path,img)\n",
    "    cnt = cnt + 1"
   ]
  },
  {
   "cell_type": "code",
   "execution_count": 20,
   "metadata": {},
   "outputs": [],
   "source": [
    "cnt = 0\n",
    "\n",
    "for file in my_x_val:\n",
    "    image = file.replace(gray_path,'')\n",
    "    new_path = subset_val_path + \"/\" + my_Y_val[cnt] + \"/\" + image\n",
    "    img = cv2.imread(file)\n",
    "    cv2.imwrite(new_path,img)\n",
    "    cnt = cnt + 1"
   ]
  },
  {
   "cell_type": "markdown",
   "metadata": {},
   "source": [
    "#### Extract Bottleneck Features and perform Transfer Learning - new notebook "
   ]
  },
  {
   "cell_type": "code",
   "execution_count": 21,
   "metadata": {},
   "outputs": [],
   "source": [
    "x = np.array(df['Image'])\n",
    "x= 'data_gray/' + x\n",
    "\n",
    "Y = np.array(df['Id'])"
   ]
  },
  {
   "cell_type": "code",
   "execution_count": 22,
   "metadata": {},
   "outputs": [],
   "source": [
    "msk = np.random.rand(len(x)) < 0.75\n",
    "x_train = x[msk]\n",
    "Y_train = Y[msk]\n",
    "\n",
    "x_val = x[~msk]\n",
    "Y_val = Y[~msk]"
   ]
  },
  {
   "cell_type": "code",
   "execution_count": 23,
   "metadata": {},
   "outputs": [],
   "source": [
    "full_path = 'data_full'\n",
    "full_train_path = 'data_full/train'\n",
    "full_val_path = 'data_full/val'\n",
    "\n",
    "if not os.path.exists(full_path):\n",
    "    os.mkdir(full_path)\n",
    "else:\n",
    "    shutil.rmtree(full_train_path)\n",
    "    shutil.rmtree(full_val_path)\n",
    "\n",
    "if not os.path.exists(full_train_path):    \n",
    "    os.mkdir(full_train_path)\n",
    "\n",
    "if not os.path.exists(full_val_path):\n",
    "    os.mkdir(full_val_path)"
   ]
  },
  {
   "cell_type": "code",
   "execution_count": 24,
   "metadata": {},
   "outputs": [],
   "source": [
    "for folder in Y:\n",
    "    path = full_train_path + \"/\" + folder\n",
    "    if not os.path.exists(path):\n",
    "        os.mkdir(path)"
   ]
  },
  {
   "cell_type": "code",
   "execution_count": 25,
   "metadata": {},
   "outputs": [],
   "source": [
    "for folder in Y:\n",
    "    path = full_val_path + \"/\" + folder\n",
    "    if not os.path.exists(path):\n",
    "        os.mkdir(path)"
   ]
  },
  {
   "cell_type": "code",
   "execution_count": 26,
   "metadata": {},
   "outputs": [],
   "source": [
    "cnt = 0\n",
    "gray_path = 'data_gray/'\n",
    "for file in x_train:\n",
    "    image = file.replace(gray_path,'')\n",
    "    new_path = full_train_path + \"/\" + Y_train[cnt] + \"/\" + image\n",
    "    img = cv2.imread(file)\n",
    "    cv2.imwrite(new_path,img)\n",
    "    cnt = cnt + 1"
   ]
  },
  {
   "cell_type": "code",
   "execution_count": 27,
   "metadata": {},
   "outputs": [],
   "source": [
    "cnt = 0\n",
    "\n",
    "for file in x_val:\n",
    "    image = file.replace(gray_path,'')\n",
    "    new_path = full_val_path + \"/\" + Y_val[cnt] + \"/\" + image\n",
    "    img = cv2.imread(file)\n",
    "    cv2.imwrite(new_path,img)\n",
    "    cnt = cnt + 1"
   ]
  },
  {
   "cell_type": "code",
   "execution_count": 28,
   "metadata": {},
   "outputs": [],
   "source": [
    "# dimensions of our images.  \n",
    "img_width, img_height = 224, 224  \n",
    "   \n",
    "pt_model_path = 'pt_model.h5'  \n",
    "train_data_dir = subset_train_path  \n",
    "validation_data_dir = subset_val_path  \n",
    "   \n",
    "# number of epochs to train top model  \n",
    "epochs = 50  \n",
    "# batch size used by flow_from_directory and predict_generator  \n",
    "train_batch_size = 16  \n",
    "val_batch_size = 4  "
   ]
  },
  {
   "cell_type": "code",
   "execution_count": 40,
   "metadata": {},
   "outputs": [
    {
     "name": "stdout",
     "output_type": "stream",
     "text": [
      "Found 755 images belonging to 65 classes.\n",
      "Found 224 images belonging to 65 classes.\n"
     ]
    }
   ],
   "source": [
    "from keras.preprocessing.image import ImageDataGenerator\n",
    "\n",
    "train_idg = ImageDataGenerator(horizontal_flip=True,\n",
    "                               vertical_flip=True,\n",
    "                               height_shift_range=0.2,\n",
    "                               width_shift_range=0.2)\n",
    "\n",
    "train_gen = train_idg.flow_from_directory(\n",
    "    train_data_dir,\n",
    "    target_size=(img_width, img_height),\n",
    "    batch_size = train_batch_size\n",
    ")\n",
    "\n",
    "n_classes = train_gen.classes\n",
    "\n",
    "val_idg = ImageDataGenerator(horizontal_flip=True,\n",
    "                               vertical_flip=True,\n",
    "                               height_shift_range=0.2,\n",
    "                               width_shift_range=0.2)\n",
    "\n",
    "val_gen = val_idg.flow_from_directory(\n",
    "    validation_data_dir,\n",
    "    target_size=(img_width, img_height),\n",
    "    batch_size = val_batch_size\n",
    ")\n"
   ]
  },
  {
   "cell_type": "code",
   "execution_count": 30,
   "metadata": {},
   "outputs": [],
   "source": [
    "from keras.models import Sequential\n",
    "from keras.models import Model\n",
    "from keras.callbacks import ModelCheckpoint, LearningRateScheduler, EarlyStopping, ReduceLROnPlateau, TensorBoard\n",
    "from keras import optimizers, losses, activations, models\n",
    "from keras.layers import Convolution2D, Dense, Input, Flatten, Dropout, MaxPooling2D, BatchNormalization, GlobalAveragePooling2D, Concatenate\n",
    "from keras import applications"
   ]
  },
  {
   "cell_type": "code",
   "execution_count": 41,
   "metadata": {},
   "outputs": [
    {
     "name": "stderr",
     "output_type": "stream",
     "text": [
      "/home/Spartacus/anaconda3/lib/python3.6/site-packages/keras_applications/resnet50.py:265: UserWarning: The output shape of `ResNet50(include_top=False)` has been changed since Keras 2.2.0.\n",
      "  warnings.warn('The output shape of `ResNet50(include_top=False)` '\n"
     ]
    },
    {
     "name": "stdout",
     "output_type": "stream",
     "text": [
      "_________________________________________________________________\n",
      "Layer (type)                 Output Shape              Param #   \n",
      "=================================================================\n",
      "resnet50 (Model)             (None, 7, 7, 2048)        23587712  \n",
      "_________________________________________________________________\n",
      "global_average_pooling2d_3 ( (None, 2048)              0         \n",
      "_________________________________________________________________\n",
      "dropout_3 (Dropout)          (None, 2048)              0         \n",
      "_________________________________________________________________\n",
      "dense_3 (Dense)              (None, 65)                133185    \n",
      "=================================================================\n",
      "Total params: 23,720,897\n",
      "Trainable params: 133,185\n",
      "Non-trainable params: 23,587,712\n",
      "_________________________________________________________________\n"
     ]
    }
   ],
   "source": [
    "input_shape = (img_width, img_height,3)\n",
    "\n",
    "nclass = len(train_gen.class_indices)\n",
    "\n",
    "base_model = applications.ResNet50(weights='imagenet', \n",
    "                                include_top=False, \n",
    "                                input_shape=input_shape)\n",
    "base_model.trainable = False\n",
    "\n",
    "add_model = Sequential()\n",
    "add_model.add(base_model)\n",
    "add_model.add(GlobalAveragePooling2D())\n",
    "add_model.add(Dropout(0.5))\n",
    "add_model.add(Dense(nclass, \n",
    "                    activation='softmax'))\n",
    "\n",
    "model = add_model\n",
    "\n",
    "model.compile(loss='categorical_crossentropy', \n",
    "              optimizer=optimizers.Adam(lr=1e-4),\n",
    "              metrics=['accuracy'])\n",
    "model.summary()"
   ]
  },
  {
   "cell_type": "code",
   "execution_count": 42,
   "metadata": {},
   "outputs": [],
   "source": [
    "CUDA_VISIBLE_DEVICES = 1"
   ]
  },
  {
   "cell_type": "code",
   "execution_count": 43,
   "metadata": {},
   "outputs": [
    {
     "name": "stdout",
     "output_type": "stream",
     "text": [
      "Epoch 1/50\n",
      "48/47 [==============================] - 64s 1s/step - loss: 4.6941 - acc: 0.0169 - val_loss: 4.6611 - val_acc: 0.0179\n",
      "\n",
      "Epoch 00001: acc improved from -inf to 0.01722, saving model to pt_model.h5\n",
      "Epoch 2/50\n",
      "48/47 [==============================] - 54s 1s/step - loss: 4.4386 - acc: 0.0404 - val_loss: 4.5729 - val_acc: 0.0134\n",
      "\n",
      "Epoch 00002: acc improved from 0.01722 to 0.04106, saving model to pt_model.h5\n",
      "Epoch 3/50\n",
      "48/47 [==============================] - 54s 1s/step - loss: 4.2594 - acc: 0.0443 - val_loss: 4.5448 - val_acc: 0.0268\n",
      "\n",
      "Epoch 00003: acc improved from 0.04106 to 0.04503, saving model to pt_model.h5\n",
      "Epoch 4/50\n",
      "48/47 [==============================] - 54s 1s/step - loss: 4.1915 - acc: 0.0339 - val_loss: 4.4425 - val_acc: 0.0223\n",
      "\n",
      "Epoch 00004: acc did not improve from 0.04503\n",
      "Epoch 5/50\n",
      "48/47 [==============================] - 54s 1s/step - loss: 3.9896 - acc: 0.0703 - val_loss: 4.4163 - val_acc: 0.0402\n",
      "\n",
      "Epoch 00005: acc improved from 0.04503 to 0.07152, saving model to pt_model.h5\n",
      "Epoch 6/50\n",
      "48/47 [==============================] - 54s 1s/step - loss: 3.9892 - acc: 0.0690 - val_loss: 4.3605 - val_acc: 0.0312\n",
      "\n",
      "Epoch 00006: acc did not improve from 0.07152\n",
      "Epoch 7/50\n",
      "48/47 [==============================] - 54s 1s/step - loss: 3.8959 - acc: 0.0759 - val_loss: 4.3928 - val_acc: 0.0268\n",
      "\n",
      "Epoch 00007: acc improved from 0.07152 to 0.07152, saving model to pt_model.h5\n",
      "Epoch 8/50\n",
      "48/47 [==============================] - 54s 1s/step - loss: 3.7731 - acc: 0.1042 - val_loss: 4.2265 - val_acc: 0.0580\n",
      "\n",
      "Epoch 00008: acc improved from 0.07152 to 0.10596, saving model to pt_model.h5\n",
      "Epoch 9/50\n",
      "48/47 [==============================] - 54s 1s/step - loss: 3.6997 - acc: 0.1032 - val_loss: 4.2145 - val_acc: 0.0491\n",
      "\n",
      "Epoch 00009: acc did not improve from 0.10596\n",
      "Epoch 10/50\n",
      "48/47 [==============================] - 54s 1s/step - loss: 3.6302 - acc: 0.1133 - val_loss: 4.2534 - val_acc: 0.0402\n",
      "\n",
      "Epoch 00010: acc improved from 0.10596 to 0.11523, saving model to pt_model.h5\n",
      "Epoch 11/50\n",
      "48/47 [==============================] - 54s 1s/step - loss: 3.5485 - acc: 0.1303 - val_loss: 4.0961 - val_acc: 0.0759\n",
      "\n",
      "Epoch 00011: acc improved from 0.11523 to 0.13245, saving model to pt_model.h5\n",
      "Epoch 12/50\n",
      "48/47 [==============================] - 54s 1s/step - loss: 3.4860 - acc: 0.1407 - val_loss: 4.1014 - val_acc: 0.0714\n",
      "\n",
      "Epoch 00012: acc improved from 0.13245 to 0.14305, saving model to pt_model.h5\n",
      "Epoch 13/50\n",
      "48/47 [==============================] - 54s 1s/step - loss: 3.4165 - acc: 0.1706 - val_loss: 4.0944 - val_acc: 0.0536\n",
      "\n",
      "Epoch 00013: acc improved from 0.14305 to 0.17351, saving model to pt_model.h5\n",
      "Epoch 14/50\n",
      "48/47 [==============================] - 54s 1s/step - loss: 3.3519 - acc: 0.1667 - val_loss: 4.1398 - val_acc: 0.0670\n",
      "\n",
      "Epoch 00014: acc did not improve from 0.17351\n",
      "Epoch 15/50\n",
      "48/47 [==============================] - 54s 1s/step - loss: 3.3112 - acc: 0.1784 - val_loss: 4.1057 - val_acc: 0.0670\n",
      "\n",
      "Epoch 00015: acc improved from 0.17351 to 0.18146, saving model to pt_model.h5\n",
      "Epoch 16/50\n",
      "48/47 [==============================] - 54s 1s/step - loss: 3.2758 - acc: 0.1811 - val_loss: 4.0148 - val_acc: 0.0759\n",
      "\n",
      "Epoch 00016: acc improved from 0.18146 to 0.18411, saving model to pt_model.h5\n",
      "Epoch 17/50\n",
      "48/47 [==============================] - 54s 1s/step - loss: 3.1778 - acc: 0.2214 - val_loss: 4.0745 - val_acc: 0.0446\n",
      "\n",
      "Epoch 00017: acc improved from 0.18411 to 0.22517, saving model to pt_model.h5\n",
      "Epoch 18/50\n",
      "48/47 [==============================] - 54s 1s/step - loss: 3.1134 - acc: 0.2126 - val_loss: 4.0568 - val_acc: 0.0670\n",
      "\n",
      "Epoch 00018: acc did not improve from 0.22517\n",
      "Epoch 19/50\n",
      "48/47 [==============================] - 54s 1s/step - loss: 2.9851 - acc: 0.2569 - val_loss: 4.0234 - val_acc: 0.0804\n",
      "\n",
      "Epoch 00019: acc improved from 0.22517 to 0.25563, saving model to pt_model.h5\n",
      "Epoch 20/50\n",
      "48/47 [==============================] - 54s 1s/step - loss: 2.9748 - acc: 0.2465 - val_loss: 3.9844 - val_acc: 0.0938\n",
      "\n",
      "Epoch 00020: acc did not improve from 0.25563\n",
      "Epoch 21/50\n",
      "48/47 [==============================] - 54s 1s/step - loss: 2.9073 - acc: 0.2840 - val_loss: 4.0147 - val_acc: 0.0759\n",
      "\n",
      "Epoch 00021: acc improved from 0.25563 to 0.28874, saving model to pt_model.h5\n",
      "Epoch 22/50\n",
      "48/47 [==============================] - 54s 1s/step - loss: 2.8768 - acc: 0.2644 - val_loss: 4.0393 - val_acc: 0.0893\n",
      "\n",
      "Epoch 00022: acc did not improve from 0.28874\n",
      "Epoch 23/50\n",
      "48/47 [==============================] - 54s 1s/step - loss: 2.8611 - acc: 0.2840 - val_loss: 3.9467 - val_acc: 0.0893\n",
      "\n",
      "Epoch 00023: acc did not improve from 0.28874\n",
      "Epoch 24/50\n",
      "48/47 [==============================] - 54s 1s/step - loss: 2.8134 - acc: 0.3061 - val_loss: 3.9082 - val_acc: 0.0938\n",
      "\n",
      "Epoch 00024: acc improved from 0.28874 to 0.31126, saving model to pt_model.h5\n",
      "Epoch 25/50\n",
      "48/47 [==============================] - 54s 1s/step - loss: 2.7351 - acc: 0.2996 - val_loss: 3.9086 - val_acc: 0.0982\n",
      "\n",
      "Epoch 00025: acc did not improve from 0.31126\n",
      "Epoch 26/50\n",
      "48/47 [==============================] - 54s 1s/step - loss: 2.6607 - acc: 0.3413 - val_loss: 3.8873 - val_acc: 0.0536\n",
      "\n",
      "Epoch 00026: acc improved from 0.31126 to 0.34702, saving model to pt_model.h5\n",
      "Epoch 27/50\n",
      "48/47 [==============================] - 54s 1s/step - loss: 2.7066 - acc: 0.3087 - val_loss: 3.9163 - val_acc: 0.0982\n",
      "\n",
      "Epoch 00027: acc did not improve from 0.34702\n",
      "Epoch 28/50\n",
      "48/47 [==============================] - 54s 1s/step - loss: 2.6192 - acc: 0.3653 - val_loss: 3.9720 - val_acc: 0.1027\n",
      "\n",
      "Epoch 00028: acc improved from 0.34702 to 0.36026, saving model to pt_model.h5\n",
      "Epoch 29/50\n",
      "48/47 [==============================] - 54s 1s/step - loss: 2.6045 - acc: 0.3426 - val_loss: 3.9115 - val_acc: 0.0938\n",
      "\n",
      "Epoch 00029: acc did not improve from 0.36026\n",
      "Epoch 30/50\n",
      "48/47 [==============================] - 54s 1s/step - loss: 2.6223 - acc: 0.3269 - val_loss: 3.8771 - val_acc: 0.0938\n",
      "\n",
      "Epoch 00030: acc did not improve from 0.36026\n",
      "Epoch 31/50\n",
      "48/47 [==============================] - 54s 1s/step - loss: 2.5763 - acc: 0.3608 - val_loss: 3.9001 - val_acc: 0.1071\n",
      "\n",
      "Epoch 00031: acc improved from 0.36026 to 0.36689, saving model to pt_model.h5\n",
      "Epoch 32/50\n",
      "48/47 [==============================] - 54s 1s/step - loss: 2.4391 - acc: 0.3706 - val_loss: 3.8637 - val_acc: 0.1027\n",
      "\n",
      "Epoch 00032: acc did not improve from 0.36689\n",
      "Epoch 33/50\n",
      "48/47 [==============================] - 54s 1s/step - loss: 2.4320 - acc: 0.3803 - val_loss: 3.9099 - val_acc: 0.0982\n",
      "\n",
      "Epoch 00033: acc improved from 0.36689 to 0.38675, saving model to pt_model.h5\n",
      "Epoch 34/50\n",
      "48/47 [==============================] - 54s 1s/step - loss: 2.4311 - acc: 0.4002 - val_loss: 3.8983 - val_acc: 0.1250\n",
      "\n",
      "Epoch 00034: acc improved from 0.38675 to 0.40132, saving model to pt_model.h5\n",
      "Epoch 35/50\n",
      "48/47 [==============================] - 54s 1s/step - loss: 2.3950 - acc: 0.3869 - val_loss: 3.8977 - val_acc: 0.1295\n",
      "\n",
      "Epoch 00035: acc did not improve from 0.40132\n",
      "Epoch 36/50\n",
      "48/47 [==============================] - 54s 1s/step - loss: 2.3365 - acc: 0.4194 - val_loss: 3.9239 - val_acc: 0.1161\n",
      "\n",
      "Epoch 00036: acc improved from 0.40132 to 0.42649, saving model to pt_model.h5\n",
      "Epoch 37/50\n",
      "48/47 [==============================] - 54s 1s/step - loss: 2.2497 - acc: 0.4262 - val_loss: 3.9359 - val_acc: 0.0804\n",
      "\n",
      "Epoch 00037: acc improved from 0.42649 to 0.42781, saving model to pt_model.h5\n",
      "Epoch 38/50\n",
      "48/47 [==============================] - 54s 1s/step - loss: 2.3164 - acc: 0.4090 - val_loss: 3.8895 - val_acc: 0.1027\n",
      "\n",
      "Epoch 00038: acc did not improve from 0.42781\n",
      "Epoch 39/50\n",
      "48/47 [==============================] - 54s 1s/step - loss: 2.2440 - acc: 0.4337 - val_loss: 3.9312 - val_acc: 0.0938\n",
      "\n",
      "Epoch 00039: acc improved from 0.42781 to 0.44106, saving model to pt_model.h5\n",
      "Epoch 40/50\n",
      "48/47 [==============================] - 54s 1s/step - loss: 2.2506 - acc: 0.4377 - val_loss: 3.9128 - val_acc: 0.1116\n",
      "\n",
      "Epoch 00040: acc improved from 0.44106 to 0.44503, saving model to pt_model.h5\n",
      "Epoch 41/50\n",
      "48/47 [==============================] - 54s 1s/step - loss: 2.1640 - acc: 0.4481 - val_loss: 3.9368 - val_acc: 0.0848\n",
      "\n",
      "Epoch 00041: acc improved from 0.44503 to 0.45563, saving model to pt_model.h5\n",
      "Epoch 42/50\n",
      "48/47 [==============================] - 54s 1s/step - loss: 2.2138 - acc: 0.4487 - val_loss: 3.8669 - val_acc: 0.1071\n",
      "\n",
      "Epoch 00042: acc did not improve from 0.45563\n",
      "Epoch 43/50\n",
      "48/47 [==============================] - 54s 1s/step - loss: 2.1333 - acc: 0.4744 - val_loss: 3.8321 - val_acc: 0.1116\n",
      "\n",
      "Epoch 00043: acc improved from 0.45563 to 0.47682, saving model to pt_model.h5\n",
      "Epoch 44/50\n",
      "48/47 [==============================] - 54s 1s/step - loss: 2.1891 - acc: 0.4471 - val_loss: 3.8317 - val_acc: 0.1339\n",
      "\n",
      "Epoch 00044: acc did not improve from 0.47682\n",
      "Epoch 45/50\n",
      "48/47 [==============================] - 54s 1s/step - loss: 2.1679 - acc: 0.4487 - val_loss: 3.8902 - val_acc: 0.1161\n",
      "\n",
      "Epoch 00045: acc did not improve from 0.47682\n",
      "Epoch 46/50\n",
      "48/47 [==============================] - 54s 1s/step - loss: 2.0865 - acc: 0.4692 - val_loss: 3.8389 - val_acc: 0.1295\n",
      "\n",
      "Epoch 00046: acc did not improve from 0.47682\n",
      "Epoch 47/50\n",
      "48/47 [==============================] - 54s 1s/step - loss: 2.0652 - acc: 0.4885 - val_loss: 3.7775 - val_acc: 0.1205\n",
      "\n",
      "Epoch 00047: acc improved from 0.47682 to 0.49669, saving model to pt_model.h5\n",
      "Epoch 48/50\n",
      "48/47 [==============================] - 54s 1s/step - loss: 2.0366 - acc: 0.4914 - val_loss: 3.8527 - val_acc: 0.1161\n",
      "\n",
      "Epoch 00048: acc did not improve from 0.49669\n",
      "Epoch 49/50\n",
      "48/47 [==============================] - 54s 1s/step - loss: 2.0382 - acc: 0.4770 - val_loss: 3.8342 - val_acc: 0.1205\n",
      "\n",
      "Epoch 00049: acc did not improve from 0.49669\n",
      "Epoch 50/50\n",
      "48/47 [==============================] - 54s 1s/step - loss: 1.9961 - acc: 0.4979 - val_loss: 3.8915 - val_acc: 0.1116\n",
      "\n",
      "Epoch 00050: acc improved from 0.49669 to 0.50066, saving model to pt_model.h5\n"
     ]
    }
   ],
   "source": [
    "checkpoint = ModelCheckpoint(pt_model_path, monitor='acc', verbose=1, save_best_only=True, mode='max')\n",
    "\n",
    "early = EarlyStopping(monitor=\"acc\", mode=\"max\", patience=15)\n",
    "\n",
    "callbacks_list = [checkpoint, early] #early\n",
    "\n",
    "history = model.fit_generator(train_gen, \n",
    "                              epochs=epochs,\n",
    "                              steps_per_epoch=(len(my_x_train)/train_batch_size),\n",
    "                              shuffle=True, \n",
    "                              verbose=True,\n",
    "                              validation_data = val_gen,\n",
    "                              validation_steps=(len(my_x_val)/val_batch_size),\n",
    "                              callbacks=callbacks_list)"
   ]
  },
  {
   "cell_type": "code",
   "execution_count": 44,
   "metadata": {},
   "outputs": [
    {
     "data": {
      "image/png": "[encoded data removed]",
      "text/plain": [
       "<matplotlib.figure.Figure at 0x7f28a46754a8>"
      ]
     },
     "metadata": {},
     "output_type": "display_data"
    }
   ],
   "source": [
    "plt.figure(1)  \n",
    "\n",
    "plt.subplots_adjust(left=None, bottom=None, right=None, top=None, wspace=None, hspace=0.2)\n",
    "\n",
    "# summarize history for accuracy  \n",
    "\n",
    "plt.subplot(311)  \n",
    "plt.plot(history.history['acc'])  \n",
    "plt.plot(history.history['val_acc'])  \n",
    "plt.title('model accuracy')  \n",
    "plt.ylabel('accuracy')  \n",
    "plt.xlabel('epoch')  \n",
    "plt.legend(['train', 'test'], loc='upper left')  \n",
    "\n",
    "# summarize history for loss  \n",
    "\n",
    "plt.subplot(313)  \n",
    "plt.plot(history.history['loss'])  \n",
    "plt.plot(history.history['val_loss'])  \n",
    "plt.title('model loss')  \n",
    "plt.ylabel('loss')  \n",
    "plt.xlabel('epoch')  \n",
    "plt.legend(['train', 'test'], loc='upper left')  \n",
    "plt.show() "
   ]
  },
  {
   "cell_type": "code",
   "execution_count": null,
   "metadata": {},
   "outputs": [],
   "source": []
  }
 ],
 "metadata": {
  "kernelspec": {
   "display_name": "Python 3",
   "language": "python",
   "name": "python3"
  },
  "language_info": {
   "codemirror_mode": {
    "name": "ipython",
    "version": 3
   },
   "file_extension": ".py",
   "mimetype": "text/x-python",
   "name": "python",
   "nbconvert_exporter": "python",
   "pygments_lexer": "ipython3",
   "version": "3.6.5"
  }
 },
 "nbformat": 4,
 "nbformat_minor": 2
}
