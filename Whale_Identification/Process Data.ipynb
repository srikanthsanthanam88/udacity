{
 "cells": [
  {
   "cell_type": "code",
   "execution_count": 1,
   "metadata": {},
   "outputs": [],
   "source": [
    "import pandas as pd\n",
    "import matplotlib.pyplot as plt\n",
    "import numpy as np\n",
    "import PIL\n",
    "import cv2\n",
    "import os\n",
    "import os.path\n",
    "import time\n",
    "import skimage, skimage.io\n",
    "import time\n",
    "import copy"
   ]
  },
  {
   "cell_type": "code",
   "execution_count": 2,
   "metadata": {},
   "outputs": [],
   "source": [
    "df = pd.read_csv('train.csv')"
   ]
  },
  {
   "cell_type": "markdown",
   "metadata": {},
   "source": [
    "#### Convert Images to Grayscale and Resize "
   ]
  },
  {
   "cell_type": "code",
   "execution_count": 3,
   "metadata": {},
   "outputs": [],
   "source": [
    "def resize_images(folder1, folder2):\n",
    "     #images = []\n",
    "    for filename in os.listdir(folder1):\n",
    "        img = cv2.imread(os.path.join(folder1,filename))\n",
    "        chan = img.shape[-1]\n",
    "        if chan==3:\n",
    "            g_img = cv2.cvtColor(img,cv2.COLOR_BGR2GRAY)\n",
    "            new_img = cv2.resize(g_img,(224,224),interpolation=cv2.INTER_AREA)\n",
    "        else:\n",
    "             new_img = cv2.resize(img,(224,224),interpolation=cv2.INTER_AREA)\n",
    "        if new_img is not None:\n",
    "            out_path = os.path.join(folder2,filename)\n",
    "            cv2.imwrite(out_path,new_img)\n"
   ]
  },
  {
   "cell_type": "code",
   "execution_count": 4,
   "metadata": {},
   "outputs": [],
   "source": [
    "resize_images('data/train/','data_gray/')"
   ]
  },
  {
   "cell_type": "code",
   "execution_count": 5,
   "metadata": {},
   "outputs": [],
   "source": [
    "unique = pd.value_counts(df.Id)\n",
    "num_classes = unique.values.shape[0]"
   ]
  },
  {
   "cell_type": "code",
   "execution_count": 6,
   "metadata": {},
   "outputs": [
    {
     "name": "stdout",
     "output_type": "stream",
     "text": [
      "Classes: 4251\n",
      "Images: 9850\n"
     ]
    }
   ],
   "source": [
    "print (\"Classes:\", num_classes)\n",
    "print (\"Images:\",df.shape[0])"
   ]
  },
  {
   "cell_type": "markdown",
   "metadata": {},
   "source": [
    "#### Create a new data frame with selected data "
   ]
  },
  {
   "cell_type": "markdown",
   "metadata": {},
   "source": [
    "#### Split new data frame into training and validation data "
   ]
  },
  {
   "cell_type": "markdown",
   "metadata": {},
   "source": [
    "#### Store training and validation into classwise folders "
   ]
  },
  {
   "cell_type": "markdown",
   "metadata": {},
   "source": [
    "#### Extract Bottleneck Features and perform Transfer Learning - new notebook "
   ]
  },
  {
   "cell_type": "code",
   "execution_count": null,
   "metadata": {},
   "outputs": [],
   "source": []
  }
 ],
 "metadata": {
  "kernelspec": {
   "display_name": "Python 3",
   "language": "python",
   "name": "python3"
  },
  "language_info": {
   "codemirror_mode": {
    "name": "ipython",
    "version": 3
   },
   "file_extension": ".py",
   "mimetype": "text/x-python",
   "name": "python",
   "nbconvert_exporter": "python",
   "pygments_lexer": "ipython3",
   "version": "3.6.5"
  }
 },
 "nbformat": 4,
 "nbformat_minor": 2
}
